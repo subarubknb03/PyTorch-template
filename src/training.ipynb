{
 "cells": [
  {
   "cell_type": "code",
   "execution_count": null,
   "metadata": {},
   "outputs": [],
   "source": [
    "import random\n",
    "\n",
    "import numpy as np\n",
    "import pandas as pd\n",
    "import torch\n",
    "import torch.nn as nn\n",
    "import torch.optim as optim\n",
    "from torch.utils.data import Dataset, DataLoader, random_split\n",
    "from torchinfo import summary\n",
    "\n",
    "from model import BaseModel # TODO: モデルは自作する\n",
    "import torch_utils"
   ]
  },
  {
   "cell_type": "code",
   "execution_count": null,
   "metadata": {},
   "outputs": [],
   "source": [
    "BATCH_SIZE = 256\n",
    "CPU_NUM = 2\n",
    "\n",
    "df = pd.read_csv('')\n",
    "dataset = Dataset(df)\n",
    "\n",
    "train, val, test = random_split(dataset, [0.6, 0.2, 0.2])\n",
    "\n",
    "# seed固定用\n",
    "def seed_worker(worker_id):\n",
    "    worker_seed = torch.initial_seed() % 2**32\n",
    "    np.random.seed(worker_seed)\n",
    "    random.seed(worker_seed)\n",
    "\n",
    "g = torch.Generator()\n",
    "g.manual_seed(0)\n",
    "\n",
    "train_loader = DataLoader(\n",
    "    dataset=train,\n",
    "    batch_size=BATCH_SIZE,\n",
    "    shuffle=True,\n",
    "    num_workers=CPU_NUM,\n",
    "    pin_memory=True,\n",
    "    worker_init_fn=seed_worker,\n",
    "    generator=g,\n",
    ")\n",
    "\n",
    "val_loader = DataLoader(\n",
    "    dataset=val,\n",
    "    batch_size=BATCH_SIZE,\n",
    "    num_workers=CPU_NUM,\n",
    "    pin_memory=True,\n",
    "    worker_init_fn=seed_worker,\n",
    "    generator=g,\n",
    ")\n",
    "\n",
    "test_loader = DataLoader(\n",
    "    dataset=test,\n",
    "    batch_size=BATCH_SIZE,\n",
    "    num_workers=CPU_NUM,\n",
    "    pin_memory=True,\n",
    "    worker_init_fn=seed_worker,\n",
    "    generator=g,\n",
    ")\n",
    "\n",
    "loader_dict = {\n",
    "    'train': train_loader,\n",
    "    'val': val_loader,\n",
    "    'test': test_loader\n",
    "}"
   ]
  },
  {
   "cell_type": "code",
   "execution_count": null,
   "metadata": {},
   "outputs": [],
   "source": [
    "torch_utils.torch_seed()\n",
    "\n",
    "EPOCHS = 50\n",
    "history = []\n",
    "\n",
    "device = torch_utils.check_gpu()\n",
    "\n",
    "model = BaseModel().to(device)\n",
    "# モデル詳細を表示したい場合は以下のコメントを解除し、入力のshapeを指定し使用。\n",
    "# print(summary(\n",
    "#     model,\n",
    "#     input_size=() # TODO: ここを編集\n",
    "# ))\n",
    "\n",
    "optimizer = optim.Adam(model.parameters())\n",
    "\n",
    "criterion = nn.MSELoss()\n",
    "\n",
    "history = torch_utils.fit(model, optimizer, criterion, EPOCHS, loader_dict, device, history)"
   ]
  },
  {
   "cell_type": "code",
   "execution_count": null,
   "metadata": {},
   "outputs": [],
   "source": []
  }
 ],
 "metadata": {
  "kernelspec": {
   "display_name": "Python 3 (ipykernel)",
   "language": "python",
   "name": "python3"
  },
  "language_info": {
   "codemirror_mode": {
    "name": "ipython",
    "version": 3
   },
   "file_extension": ".py",
   "mimetype": "text/x-python",
   "name": "python",
   "nbconvert_exporter": "python",
   "pygments_lexer": "ipython3",
   "version": "3.10.13"
  }
 },
 "nbformat": 4,
 "nbformat_minor": 4
}
